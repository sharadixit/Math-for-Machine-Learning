{
  "nbformat": 4,
  "nbformat_minor": 0,
  "metadata": {
    "colab": {
      "provenance": []
    },
    "kernelspec": {
      "name": "python3",
      "display_name": "Python 3"
    },
    "language_info": {
      "name": "python"
    }
  },
  "cells": [
    {
      "cell_type": "code",
      "execution_count": 3,
      "metadata": {
        "id": "u4UL7n4gzRQY"
      },
      "outputs": [],
      "source": [
        "import numpy as np\n",
        "import matplotlib.pyplot as plt\n",
        "import pandas as pd"
      ]
    },
    {
      "cell_type": "markdown",
      "source": [
        "**Dot Product Of Two Verctors**"
      ],
      "metadata": {
        "id": "TMMUNzlAT4ht"
      }
    },
    {
      "cell_type": "markdown",
      "source": [
        "The Dot product of two vector is scaler"
      ],
      "metadata": {
        "id": "1zK6zVVUUwpJ"
      }
    },
    {
      "cell_type": "code",
      "source": [
        "a=np.array([2,3])\n",
        "\n",
        "b=np.array([4,4])\n",
        "\n",
        "a_dot_b=np.dot(a,b)\n",
        "\n",
        "print(a_dot_b)"
      ],
      "metadata": {
        "colab": {
          "base_uri": "https://localhost:8080/"
        },
        "id": "zgAmLsYmUIxD",
        "outputId": "f595de9f-1aa4-4cae-89d1-39abc1456a56"
      },
      "execution_count": 6,
      "outputs": [
        {
          "output_type": "stream",
          "name": "stdout",
          "text": [
            "20\n"
          ]
        }
      ]
    },
    {
      "cell_type": "code",
      "source": [
        "c=np.array([40,20,35])\n",
        "\n",
        "d=np.array([53,24,68])\n",
        "\n",
        "c_dot_d=np.dot(c,d)\n",
        "\n",
        "print(c_dot_d)"
      ],
      "metadata": {
        "colab": {
          "base_uri": "https://localhost:8080/"
        },
        "id": "hzzfRXSlUgjf",
        "outputId": "e7a94d96-2e13-4042-8cb3-643d6b2fbf87"
      },
      "execution_count": 7,
      "outputs": [
        {
          "output_type": "stream",
          "name": "stdout",
          "text": [
            "4980\n"
          ]
        }
      ]
    },
    {
      "cell_type": "markdown",
      "source": [
        "**Cross Product of Two Vector**"
      ],
      "metadata": {
        "id": "tDWpYdI0Vbmu"
      }
    },
    {
      "cell_type": "markdown",
      "source": [
        "The Cross product of two vector is not always scaler"
      ],
      "metadata": {
        "id": "HIelPkvQWNwE"
      }
    },
    {
      "cell_type": "code",
      "source": [
        "a=np.array([2,3])\n",
        "\n",
        "b=np.array([4,4])\n",
        "\n",
        "a_cross_b=np.cross(a,b)\n",
        "\n",
        "print(a_cross_b)"
      ],
      "metadata": {
        "colab": {
          "base_uri": "https://localhost:8080/"
        },
        "id": "MQgHnCJRVbVU",
        "outputId": "c90be7cb-5eff-4bce-eb8f-0ec06b24fe6e"
      },
      "execution_count": 8,
      "outputs": [
        {
          "output_type": "stream",
          "name": "stdout",
          "text": [
            "-4\n"
          ]
        }
      ]
    },
    {
      "cell_type": "code",
      "source": [
        "c=np.array([40,20,35])\n",
        "\n",
        "d=np.array([53,24,68])\n",
        "\n",
        "c_cross_d=np.cross(c,d)\n",
        "\n",
        "print(c_cross_d)"
      ],
      "metadata": {
        "colab": {
          "base_uri": "https://localhost:8080/"
        },
        "id": "vrAFtKT_VV06",
        "outputId": "9c6b961a-b34a-4fc3-9a9e-7fc66e8c5b5c"
      },
      "execution_count": 9,
      "outputs": [
        {
          "output_type": "stream",
          "name": "stdout",
          "text": [
            "[ 520 -865 -100]\n"
          ]
        }
      ]
    },
    {
      "cell_type": "markdown",
      "source": [
        "**Projection of A Vector on V Vector**"
      ],
      "metadata": {
        "id": "asd6MEqmWJsP"
      }
    },
    {
      "cell_type": "code",
      "source": [
        "a=np.array([2,5])\n",
        "\n",
        "v=np.array([8,-6])\n",
        "\n",
        "#magnitude of V vector\n",
        "magnitude_of_v=np.sqrt(sum(v**2))\n",
        "\n",
        "proj_of_a_on_v=(np.dot(a,v)/magnitude_of_v**2)*v\n"
      ],
      "metadata": {
        "id": "9GCswisSWEgT"
      },
      "execution_count": 12,
      "outputs": []
    },
    {
      "cell_type": "code",
      "source": [
        "print('Projection of a vector on v',proj_of_a_on_v)"
      ],
      "metadata": {
        "colab": {
          "base_uri": "https://localhost:8080/"
        },
        "id": "_Te3_ByMX0nT",
        "outputId": "c564f71e-ab4f-462b-8ed9-693451aaf047"
      },
      "execution_count": 15,
      "outputs": [
        {
          "output_type": "stream",
          "name": "stdout",
          "text": [
            "Projection of a vector on v [-1.12  0.84]\n"
          ]
        }
      ]
    },
    {
      "cell_type": "code",
      "source": [
        "a=np.array([23,45,62])\n",
        "\n",
        "v=np.array([45,83,67])\n",
        "\n",
        "#magnitude of V vector\n",
        "magnitude_of_v=np.sqrt(sum(v**2))\n",
        "\n",
        "proj_of_a_on_v=(np.dot(a,v)/magnitude_of_v**2)*v"
      ],
      "metadata": {
        "id": "f_Z9vn-0X4GV"
      },
      "execution_count": 18,
      "outputs": []
    },
    {
      "cell_type": "code",
      "source": [
        "print('Projection of a vector on v',proj_of_a_on_v)"
      ],
      "metadata": {
        "colab": {
          "base_uri": "https://localhost:8080/"
        },
        "id": "EG-DbhR_YiFp",
        "outputId": "ddf55cee-ade2-43f4-cc61-b74c9140be1b"
      },
      "execution_count": 19,
      "outputs": [
        {
          "output_type": "stream",
          "name": "stdout",
          "text": [
            "Projection of a vector on v [29.96194882 55.26315004 44.61001268]\n"
          ]
        }
      ]
    },
    {
      "cell_type": "code",
      "source": [],
      "metadata": {
        "id": "lwRCMj3dYlx1"
      },
      "execution_count": null,
      "outputs": []
    }
  ]
}