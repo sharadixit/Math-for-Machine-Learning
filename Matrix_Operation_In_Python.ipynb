{
  "nbformat": 4,
  "nbformat_minor": 0,
  "metadata": {
    "colab": {
      "provenance": []
    },
    "kernelspec": {
      "name": "python3",
      "display_name": "Python 3"
    },
    "language_info": {
      "name": "python"
    }
  },
  "cells": [
    {
      "cell_type": "markdown",
      "source": [
        "Import in Numpy lib"
      ],
      "metadata": {
        "id": "b14Z00lgy3ik"
      }
    },
    {
      "cell_type": "code",
      "source": [
        "import numpy as np"
      ],
      "metadata": {
        "id": "R0vioBRqy8CR"
      },
      "execution_count": 1,
      "outputs": []
    },
    {
      "cell_type": "markdown",
      "source": [
        "Matrix Addition"
      ],
      "metadata": {
        "id": "caijFjUrzFYq"
      }
    },
    {
      "cell_type": "markdown",
      "source": [
        "Two matrix can be add when the shape is same"
      ],
      "metadata": {
        "id": "Q849GWE_zLu_"
      }
    },
    {
      "cell_type": "code",
      "execution_count": 7,
      "metadata": {
        "id": "aVYtd8iOyD04"
      },
      "outputs": [],
      "source": [
        "A=np.array([[4,5],[12,12]])\n",
        "\n",
        "B=np.array([[13,14],[4,5]])"
      ]
    },
    {
      "cell_type": "code",
      "source": [
        "print(A)"
      ],
      "metadata": {
        "colab": {
          "base_uri": "https://localhost:8080/"
        },
        "id": "T5bEne5EzxbI",
        "outputId": "ff558a04-2841-4f85-9c1b-22d9b7b39c9e"
      },
      "execution_count": 8,
      "outputs": [
        {
          "output_type": "stream",
          "name": "stdout",
          "text": [
            "[[ 4  5]\n",
            " [12 12]]\n"
          ]
        }
      ]
    },
    {
      "cell_type": "code",
      "source": [
        "print(B)"
      ],
      "metadata": {
        "colab": {
          "base_uri": "https://localhost:8080/"
        },
        "id": "nkDG9X5iz08h",
        "outputId": "daf8731e-167c-41f2-f8fb-7f7d58cdbedc"
      },
      "execution_count": 9,
      "outputs": [
        {
          "output_type": "stream",
          "name": "stdout",
          "text": [
            "[[13 14]\n",
            " [ 4  5]]\n"
          ]
        }
      ]
    },
    {
      "cell_type": "code",
      "source": [
        "A.shape"
      ],
      "metadata": {
        "colab": {
          "base_uri": "https://localhost:8080/"
        },
        "id": "UbFIg8yzz26U",
        "outputId": "7be2bc80-2aaf-4d68-826d-1bfe4259082f"
      },
      "execution_count": 10,
      "outputs": [
        {
          "output_type": "execute_result",
          "data": {
            "text/plain": [
              "(2, 2)"
            ]
          },
          "metadata": {},
          "execution_count": 10
        }
      ]
    },
    {
      "cell_type": "code",
      "source": [
        "B.shape"
      ],
      "metadata": {
        "colab": {
          "base_uri": "https://localhost:8080/"
        },
        "id": "3K4pcLVr0g98",
        "outputId": "45308f6a-38c0-400d-d7e0-812a70bd4978"
      },
      "execution_count": 11,
      "outputs": [
        {
          "output_type": "execute_result",
          "data": {
            "text/plain": [
              "(2, 2)"
            ]
          },
          "metadata": {},
          "execution_count": 11
        }
      ]
    },
    {
      "cell_type": "markdown",
      "source": [
        "Adding two matrix"
      ],
      "metadata": {
        "id": "4llE2cAg0y5j"
      }
    },
    {
      "cell_type": "code",
      "source": [
        "sum = A + B"
      ],
      "metadata": {
        "id": "IKcEyQSs0jdS"
      },
      "execution_count": 15,
      "outputs": []
    },
    {
      "cell_type": "code",
      "source": [
        "print(sum)"
      ],
      "metadata": {
        "colab": {
          "base_uri": "https://localhost:8080/"
        },
        "id": "jDUepwKd0wab",
        "outputId": "602b32e4-1126-4003-9cf1-24d07c831970"
      },
      "execution_count": 16,
      "outputs": [
        {
          "output_type": "stream",
          "name": "stdout",
          "text": [
            "[[17 19]\n",
            " [16 17]]\n"
          ]
        }
      ]
    },
    {
      "cell_type": "code",
      "source": [
        "# Create two matrix with random values\n",
        "matrix_1 = np.random.randint(10,size=(3,3))\n",
        "matrix_2 = np.random.randint(10,size=(3,3))\n",
        "print(matrix_1)"
      ],
      "metadata": {
        "colab": {
          "base_uri": "https://localhost:8080/"
        },
        "id": "acnJ1uBm0_Ft",
        "outputId": "99d26c13-29a7-490e-f717-ba8778a3aeb5"
      },
      "execution_count": 23,
      "outputs": [
        {
          "output_type": "stream",
          "name": "stdout",
          "text": [
            "[[8 9 5]\n",
            " [5 8 7]\n",
            " [8 2 1]]\n"
          ]
        }
      ]
    },
    {
      "cell_type": "code",
      "source": [
        "print(matrix_2)"
      ],
      "metadata": {
        "colab": {
          "base_uri": "https://localhost:8080/"
        },
        "id": "hgp8ots92fM4",
        "outputId": "8f1d9b0a-556c-4d74-f905-901ecd4ae8a7"
      },
      "execution_count": 24,
      "outputs": [
        {
          "output_type": "stream",
          "name": "stdout",
          "text": [
            "[[6 1 6]\n",
            " [5 2 1]\n",
            " [1 3 1]]\n"
          ]
        }
      ]
    },
    {
      "cell_type": "code",
      "source": [
        "sum =np.add(matrix_1,matrix_2)"
      ],
      "metadata": {
        "id": "v_heKGQF2lh7"
      },
      "execution_count": 25,
      "outputs": []
    },
    {
      "cell_type": "code",
      "source": [
        "print(sum)"
      ],
      "metadata": {
        "colab": {
          "base_uri": "https://localhost:8080/"
        },
        "id": "NrHgLYfj2y-f",
        "outputId": "72d8c246-4a82-405c-ff63-7bb3882de785"
      },
      "execution_count": 26,
      "outputs": [
        {
          "output_type": "stream",
          "name": "stdout",
          "text": [
            "[[14 10 11]\n",
            " [10 10  8]\n",
            " [ 9  5  2]]\n"
          ]
        }
      ]
    },
    {
      "cell_type": "markdown",
      "source": [
        "Matrix Subtraction"
      ],
      "metadata": {
        "id": "nzuNkmZw3Leq"
      }
    },
    {
      "cell_type": "code",
      "source": [
        "A =np.array([[4,5],[12,12]])\n",
        "\n",
        "B =np.array([[13,14],[4,5]])"
      ],
      "metadata": {
        "id": "X1vwHon120Ue"
      },
      "execution_count": 27,
      "outputs": []
    },
    {
      "cell_type": "code",
      "source": [
        "print(A)"
      ],
      "metadata": {
        "colab": {
          "base_uri": "https://localhost:8080/"
        },
        "id": "D6kwokaF3cNC",
        "outputId": "4d3faedf-2c48-43c7-c2b9-8bb5c0f4505f"
      },
      "execution_count": 30,
      "outputs": [
        {
          "output_type": "stream",
          "name": "stdout",
          "text": [
            "[[ 4  5]\n",
            " [12 12]]\n"
          ]
        }
      ]
    },
    {
      "cell_type": "code",
      "source": [
        "print(B)"
      ],
      "metadata": {
        "colab": {
          "base_uri": "https://localhost:8080/"
        },
        "id": "uJNYILm73e7C",
        "outputId": "e703e666-cbdd-468f-e8b0-c6243f56059f"
      },
      "execution_count": 31,
      "outputs": [
        {
          "output_type": "stream",
          "name": "stdout",
          "text": [
            "[[13 14]\n",
            " [ 4  5]]\n"
          ]
        }
      ]
    },
    {
      "cell_type": "code",
      "source": [
        "diffrence = A-B"
      ],
      "metadata": {
        "id": "o9W8m6J33V-3"
      },
      "execution_count": 32,
      "outputs": []
    },
    {
      "cell_type": "code",
      "source": [
        "print(diffrence)"
      ],
      "metadata": {
        "colab": {
          "base_uri": "https://localhost:8080/"
        },
        "id": "ZNfAT63w3ZZi",
        "outputId": "dd341133-620a-4eec-cc3d-eb6c3ba4e1f5"
      },
      "execution_count": 33,
      "outputs": [
        {
          "output_type": "stream",
          "name": "stdout",
          "text": [
            "[[-9 -9]\n",
            " [ 8  7]]\n"
          ]
        }
      ]
    },
    {
      "cell_type": "code",
      "source": [
        "# Create two matrix with random values\n",
        "matrix_1 = np.random.randint(10,size=(3,3))\n",
        "matrix_2 = np.random.randint(10,size=(3,3))\n",
        "print(matrix_1)"
      ],
      "metadata": {
        "colab": {
          "base_uri": "https://localhost:8080/"
        },
        "id": "9izlMMNf3bwt",
        "outputId": "9196fca5-cfd9-4172-d9b9-df0557eb0e56"
      },
      "execution_count": 34,
      "outputs": [
        {
          "output_type": "stream",
          "name": "stdout",
          "text": [
            "[[4 7 4]\n",
            " [0 6 7]\n",
            " [6 7 8]]\n"
          ]
        }
      ]
    },
    {
      "cell_type": "code",
      "source": [
        "print(matrix_2)"
      ],
      "metadata": {
        "colab": {
          "base_uri": "https://localhost:8080/"
        },
        "id": "SRF9rkql4oqu",
        "outputId": "9b0cbb61-44ac-4e27-9e94-e4dee8655ccd"
      },
      "execution_count": 35,
      "outputs": [
        {
          "output_type": "stream",
          "name": "stdout",
          "text": [
            "[[0 9 0]\n",
            " [7 7 2]\n",
            " [7 5 1]]\n"
          ]
        }
      ]
    },
    {
      "cell_type": "code",
      "source": [
        "diffrence = np.subtract(matrix_1,matrix_2)"
      ],
      "metadata": {
        "id": "Y2lvoPQO4rdM"
      },
      "execution_count": 37,
      "outputs": []
    },
    {
      "cell_type": "code",
      "source": [
        "print(diffrence)"
      ],
      "metadata": {
        "colab": {
          "base_uri": "https://localhost:8080/"
        },
        "id": "EcVi7ic54zGm",
        "outputId": "e5564ace-c22b-4b80-92c6-74b60cf756b1"
      },
      "execution_count": 38,
      "outputs": [
        {
          "output_type": "stream",
          "name": "stdout",
          "text": [
            "[[ 4 -2  4]\n",
            " [-7 -1  5]\n",
            " [-1  2  7]]\n"
          ]
        }
      ]
    },
    {
      "cell_type": "markdown",
      "source": [
        "Multiplying a matrix to a sclaer"
      ],
      "metadata": {
        "id": "N2tDtC5R507y"
      }
    },
    {
      "cell_type": "code",
      "source": [
        "x = 5\n",
        "\n",
        "y=np.random.randint(10,size=(3,3))"
      ],
      "metadata": {
        "id": "6lSPQz6747ns"
      },
      "execution_count": 41,
      "outputs": []
    },
    {
      "cell_type": "code",
      "source": [
        "print(y)"
      ],
      "metadata": {
        "colab": {
          "base_uri": "https://localhost:8080/"
        },
        "id": "AWiIf-iO6InO",
        "outputId": "a95ed0b0-81c8-4ed7-9900-85ae5bbd3a99"
      },
      "execution_count": 42,
      "outputs": [
        {
          "output_type": "stream",
          "name": "stdout",
          "text": [
            "[[0 6 2]\n",
            " [6 4 8]\n",
            " [5 3 5]]\n"
          ]
        }
      ]
    },
    {
      "cell_type": "code",
      "source": [
        "product = np.multiply(x,y)"
      ],
      "metadata": {
        "id": "q7gmMLqi6TOi"
      },
      "execution_count": 43,
      "outputs": []
    },
    {
      "cell_type": "code",
      "source": [
        "print(product)"
      ],
      "metadata": {
        "colab": {
          "base_uri": "https://localhost:8080/"
        },
        "id": "2-I7d7eg6czW",
        "outputId": "660e6310-f305-4f92-d8c0-8288257a89b2"
      },
      "execution_count": 44,
      "outputs": [
        {
          "output_type": "stream",
          "name": "stdout",
          "text": [
            "[[ 0 30 10]\n",
            " [30 20 40]\n",
            " [25 15 25]]\n"
          ]
        }
      ]
    },
    {
      "cell_type": "markdown",
      "source": [
        "Multiplying 2 matrix "
      ],
      "metadata": {
        "id": "JRIi_4886oC6"
      }
    },
    {
      "cell_type": "code",
      "source": [
        "x=np.random.randint(10,size=(3,3))\n",
        "y=np.random.randint(10,size=(3,3))"
      ],
      "metadata": {
        "id": "E3uxZpRz6e79"
      },
      "execution_count": 46,
      "outputs": []
    },
    {
      "cell_type": "code",
      "source": [
        "print(x)"
      ],
      "metadata": {
        "colab": {
          "base_uri": "https://localhost:8080/"
        },
        "id": "GjlNRcX465hH",
        "outputId": "0f8936c7-d3ca-4475-cec7-5be45c9e880f"
      },
      "execution_count": 47,
      "outputs": [
        {
          "output_type": "stream",
          "name": "stdout",
          "text": [
            "[[7 0 7]\n",
            " [9 8 7]\n",
            " [3 2 3]]\n"
          ]
        }
      ]
    },
    {
      "cell_type": "code",
      "source": [
        "print(y)"
      ],
      "metadata": {
        "colab": {
          "base_uri": "https://localhost:8080/"
        },
        "id": "lYtORR5C66rk",
        "outputId": "d5b3b4be-c534-4c18-f832-2012f1e87221"
      },
      "execution_count": 48,
      "outputs": [
        {
          "output_type": "stream",
          "name": "stdout",
          "text": [
            "[[7 0 0]\n",
            " [1 4 5]\n",
            " [8 6 8]]\n"
          ]
        }
      ]
    },
    {
      "cell_type": "code",
      "source": [
        "product = np.dot(x,y)"
      ],
      "metadata": {
        "id": "tf795nCs67t7"
      },
      "execution_count": 52,
      "outputs": []
    },
    {
      "cell_type": "code",
      "source": [
        "print(product)"
      ],
      "metadata": {
        "colab": {
          "base_uri": "https://localhost:8080/"
        },
        "id": "XqvF_oB-7N_B",
        "outputId": "ffca7e23-b3eb-43d3-b6c6-4e149785f343"
      },
      "execution_count": 53,
      "outputs": [
        {
          "output_type": "stream",
          "name": "stdout",
          "text": [
            "[[105  42  56]\n",
            " [127  74  96]\n",
            " [ 47  26  34]]\n"
          ]
        }
      ]
    },
    {
      "cell_type": "markdown",
      "source": [
        "Element wise Matrix multiplication"
      ],
      "metadata": {
        "id": "UJ8kXHrn7p5d"
      }
    },
    {
      "cell_type": "code",
      "source": [
        "x=np.random.randint(10,size=(3,3))\n",
        "y=np.random.randint(10,size=(3,3))"
      ],
      "metadata": {
        "id": "SYFqhVv87RYz"
      },
      "execution_count": 54,
      "outputs": []
    },
    {
      "cell_type": "code",
      "source": [
        "print(x)"
      ],
      "metadata": {
        "colab": {
          "base_uri": "https://localhost:8080/"
        },
        "id": "m0zkF8OG7z7Y",
        "outputId": "3c7b7073-5f57-476e-e981-9dac8a28c143"
      },
      "execution_count": 55,
      "outputs": [
        {
          "output_type": "stream",
          "name": "stdout",
          "text": [
            "[[6 7 5]\n",
            " [4 7 2]\n",
            " [4 9 4]]\n"
          ]
        }
      ]
    },
    {
      "cell_type": "code",
      "source": [
        "print(y)"
      ],
      "metadata": {
        "colab": {
          "base_uri": "https://localhost:8080/"
        },
        "id": "riVkI_zJ71OM",
        "outputId": "95aead59-80f9-4fb8-a6c2-0a90d4304a38"
      },
      "execution_count": 57,
      "outputs": [
        {
          "output_type": "stream",
          "name": "stdout",
          "text": [
            "[[1 7 5]\n",
            " [9 8 5]\n",
            " [5 0 5]]\n"
          ]
        }
      ]
    },
    {
      "cell_type": "code",
      "source": [
        "product = np.multiply(x,y)"
      ],
      "metadata": {
        "id": "ohG6ry3X72zr"
      },
      "execution_count": 58,
      "outputs": []
    },
    {
      "cell_type": "code",
      "source": [
        "print(product)"
      ],
      "metadata": {
        "id": "FV7YiEjO7-GA",
        "outputId": "92f95d2f-69d9-4885-fb6d-fefe20586b63",
        "colab": {
          "base_uri": "https://localhost:8080/"
        }
      },
      "execution_count": 59,
      "outputs": [
        {
          "output_type": "stream",
          "name": "stdout",
          "text": [
            "[[ 6 49 25]\n",
            " [36 56 10]\n",
            " [20  0 20]]\n"
          ]
        }
      ]
    },
    {
      "cell_type": "code",
      "source": [],
      "metadata": {
        "id": "dnL1DGGk8AIX"
      },
      "execution_count": null,
      "outputs": []
    }
  ]
}